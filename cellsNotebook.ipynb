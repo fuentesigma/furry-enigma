{
 "cells": [
  {
   "cell_type": "code",
   "execution_count": 1,
   "id": "cfedd81d",
   "metadata": {},
   "outputs": [],
   "source": [
    "%gui qt\n",
    "# Load modules\n",
    "import Motion\n",
    "import numpy as np\n",
    "from numpy.random import randn\n",
    "# Vispy ------------------------\n",
    "import vispy\n",
    "from vispy.scene import visuals\n",
    "from vispy import app"
   ]
  },
  {
   "cell_type": "markdown",
   "id": "93d92ded",
   "metadata": {},
   "source": [
    "# Generate initial conditions "
   ]
  },
  {
   "cell_type": "markdown",
   "id": "ac1ef1de-bcc0-4ee2-bce4-baffb06759b5",
   "metadata": {},
   "source": [
    "Use `Motion.rsphere(Motion.sphere(r, N), w=noise)` to generate a noisy sphere"
   ]
  },
  {
   "cell_type": "markdown",
   "id": "c1439ad2-e198-4fd8-8963-cb6a7ead41da",
   "metadata": {},
   "source": [
    "### Single body"
   ]
  },
  {
   "cell_type": "code",
   "execution_count": 12,
   "id": "da2ee077",
   "metadata": {},
   "outputs": [],
   "source": [
    "R = Motion.rsphere(Motion.sphere(r=4, N=300), w=0.5)\n",
    "P = Motion.unitary(randn(len(R),3))\n",
    "Q = Motion.unitary(randn(len(R),3))*0"
   ]
  },
  {
   "cell_type": "markdown",
   "id": "2e8a00a7-3cd0-4405-a78d-bf9ac1c454ba",
   "metadata": {},
   "source": [
    "### Two-body problem"
   ]
  },
  {
   "cell_type": "code",
   "execution_count": 9,
   "id": "f6fc30f1-c146-491a-8045-5026b99bc388",
   "metadata": {},
   "outputs": [],
   "source": [
    "R1 = Motion.sphere(r=2, N=100)\n",
    "R2 = Motion.sphere(r=2, N=100) - 6\n",
    "R = np.concatenate((R1,R2), axis=0)\n",
    "P = Motion.unitary(randn(len(R),3))\n",
    "Q = Motion.unitary(randn(len(R),3))"
   ]
  },
  {
   "cell_type": "markdown",
   "id": "3645def8-1b89-4daa-8c1a-9a97995356a1",
   "metadata": {},
   "source": [
    "### Visualise initial contitions"
   ]
  },
  {
   "cell_type": "code",
   "execution_count": 13,
   "id": "197f5d4c-b028-41d7-9b00-49e99da3244b",
   "metadata": {},
   "outputs": [],
   "source": [
    "frame = vispy.scene.SceneCanvas(title='Initial conditions', \n",
    "                                keys='interactive', bgcolor='black', show=True)\n",
    "pov = frame.central_widget.add_view()\n",
    "pov.camera = 'turntable'\n",
    "\n",
    "vec = visuals.Markers(scaling=True, spherical=True, symbol='disc', alpha=1)\n",
    "abp = visuals.Arrow(arrow_type='triangle_30', antialias=True, connect=\"segments\", width=1)\n",
    "pcp = visuals.Arrow(arrow_type='triangle_30', antialias=True, connect=\"segments\", width=1)\n",
    "\n",
    "pov.add(vec)\n",
    "pov.add(abp)\n",
    "pov.add(pcp)\n",
    "pov.camera.fov = 45\n",
    "pov.camera.distance = 15\n",
    "\n",
    "vec.set_data(R, size=100, edge_width=0, face_color=\"#237DBA\", edge_color=\"white\")\n",
    "abp.set_data(np.stack((R, R+P), axis=1), color=\"#A31368\")\n",
    "pcp.set_data(np.stack((R, R+Q), axis=1), color=\"#60EC83\")\n",
    "\n",
    "if __name__ == '__main__':\n",
    "    frame.show()\n",
    "    app.run()"
   ]
  },
  {
   "cell_type": "markdown",
   "id": "1e614f06",
   "metadata": {},
   "source": [
    "# Simulation"
   ]
  },
  {
   "cell_type": "markdown",
   "id": "6c3babf8-b331-406c-8402-cb3f3982df59",
   "metadata": {},
   "source": [
    "## Strength of attractive/repulsive potential"
   ]
  },
  {
   "cell_type": "markdown",
   "id": "b2ea1fca-ab3f-4487-b3b3-9c837dd1a076",
   "metadata": {},
   "source": [
    "Calculate the weights of the attraction coefficients according to the formulae:\n",
    "\n",
    "\\begin{equation}\n",
    "\\begin{split}\n",
    "S_1 &= (p^i \\wedge r^{ij}) \\cdot (p^j \\wedge r^{ij}) = p^{i}_{\\mu} p^{j}_{\\mu} r^{ij}_{\\mu}r^{ij}_{\\mu} - p^{i}_{\\mu}r^{ij}_{\\mu} p^{j}_{\\nu}r^{ij}_{\\nu} \\\\\n",
    "S_2 &= (p^i \\wedge q^{i}) \\cdot (p^j \\wedge q^{j}) = p^{i}_{\\mu} p^{j}_{\\mu} q^{i}_{\\nu}q^{j}_{\\nu} - p^{i}_{\\mu}q^{j}_{\\mu} p^{j}_{\\nu}q^{i}_{\\nu} \\\\\n",
    "S_3 &= (q^i \\wedge r^{ij}) \\cdot (q^j \\wedge r^{ij}) = q^{i}_{\\mu} q^{j}_{\\mu} r^{ij}_{\\mu}r^{ij}_{\\mu} - q^{i}_{\\mu}r^{ij}_{\\mu} q^{j}_{\\nu}r^{ij}_{\\nu} \\\\\n",
    "\\end{split}\n",
    "\\end{equation}\n",
    "\n",
    "The strength of attraction is $S$, where\n",
    "\\begin{equation}\n",
    "S = \\sigma_1 S_1 + \\sigma_2 S_2 + \\sigma_3 S_3, \\qquad \\sigma_1 + \\sigma_2 + \\sigma_3 = 1.\n",
    "\\end{equation}"
   ]
  },
  {
   "cell_type": "markdown",
   "id": "65b68404-506a-452d-a8a3-ed62d87b2b3a",
   "metadata": {},
   "source": [
    "## Dynamical model - Brownian dynamics"
   ]
  },
  {
   "cell_type": "markdown",
   "id": "629ac833-5804-410c-8b61-4431ab102a9d",
   "metadata": {},
   "source": [
    "\\begin{equation}\n",
    "\\frac{\\mathrm{d}X}{\\mathrm{d}t} = -\\frac{D}{k_BT}\\nabla \\Phi(X) + \\sqrt{2D}R(t),\n",
    "\\end{equation}\n",
    "\n",
    "for numerical purposes all constants have been set to unit."
   ]
  },
  {
   "cell_type": "markdown",
   "id": "9790f71a",
   "metadata": {},
   "source": [
    "## Control panel"
   ]
  },
  {
   "cell_type": "code",
   "execution_count": 5,
   "id": "342df308",
   "metadata": {},
   "outputs": [],
   "source": [
    "import Simulation"
   ]
  },
  {
   "cell_type": "code",
   "execution_count": 14,
   "id": "7f2857ad",
   "metadata": {},
   "outputs": [
    {
     "name": "stdout",
     "output_type": "stream",
     "text": [
      "Computing...[############################################################] 2000/2000\r"
     ]
    }
   ],
   "source": [
    "ITERS = 2000\n",
    "s = Simulation.Evolution(R, P, Q, ITERS, sigma=[0.8, 0.1, 0.1], video=False)\n",
    "time = app.Timer()\n",
    "time.connect(s.update)\n",
    "time.start(interval=0, iterations=ITERS)\n",
    "time.events.stop.connect(lambda x: app.quit())\n",
    "\n",
    "if __name__ == '__main__':\n",
    "    s.show()\n",
    "    app.run()"
   ]
  },
  {
   "cell_type": "markdown",
   "id": "b75dca26-fb4a-4fdf-b09c-d4ed03d752c4",
   "metadata": {},
   "source": [
    "## TODO\n",
    "\n",
    "> Radiation\n",
    "\n",
    "> Strain tensor"
   ]
  },
  {
   "cell_type": "code",
   "execution_count": null,
   "id": "e98a1c1e",
   "metadata": {},
   "outputs": [],
   "source": []
  },
  {
   "cell_type": "code",
   "execution_count": null,
   "id": "67ab71a9-3b51-4dfe-bb4e-bde6c5f77790",
   "metadata": {},
   "outputs": [],
   "source": []
  }
 ],
 "metadata": {
  "@webio": {
   "lastCommId": null,
   "lastKernelId": null
  },
  "kernelspec": {
   "display_name": "Python 3",
   "language": "python",
   "name": "python3"
  },
  "language_info": {
   "codemirror_mode": {
    "name": "ipython",
    "version": 3
   },
   "file_extension": ".py",
   "mimetype": "text/x-python",
   "name": "python",
   "nbconvert_exporter": "python",
   "pygments_lexer": "ipython3",
   "version": "3.8.13"
  },
  "widgets": {
   "application/vnd.jupyter.widget-state+json": {
    "state": {},
    "version_major": 2,
    "version_minor": 0
   }
  }
 },
 "nbformat": 4,
 "nbformat_minor": 5
}
