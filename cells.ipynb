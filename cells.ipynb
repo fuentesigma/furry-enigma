{
 "cells": [
  {
   "cell_type": "code",
   "execution_count": null,
   "id": "cfedd81d",
   "metadata": {},
   "outputs": [],
   "source": [
    "import numpy as np\n",
    "import matplotlib.pyplot as plt\n",
    "from numpy.matlib import repmat\n",
    "from numpy.random import randn\n",
    "from sklearn.neighbors import NearestNeighbors\n",
    "# Backend support if Qt then comment %matplotlib widget\n",
    "%gui qt\n",
    "# Vispy modules\n",
    "from vispy import app, scene\n",
    "from vispy.scene import visuals"
   ]
  },
  {
   "cell_type": "code",
   "execution_count": null,
   "id": "df78dc46",
   "metadata": {},
   "outputs": [],
   "source": [
    "palette = dict({ 1:\"#010cb1\",  2:\"#2a87dd\",\n",
    "                 3:\"#c35950\",  4:\"#e8a600\",\n",
    "                 5:\"#eded44\",  6:\"#9e0b4e\",\n",
    "                 7:\"#69409e\",  8:\"#36c2f3\",\n",
    "                 9:\"#5ba56e\", 10:\"#2c806f\",\n",
    "                11:\"#a230cb\", 12:\"#ff3399\",\n",
    "                13:\"#ffea28\", 14:\"#898c90\",\n",
    "                15:\"#a3153f\", 16:\"#9776cd\",\n",
    "                17:\"#341c68\", 18:\"#6c0d49\",\n",
    "                19:\"#3c69b1\", 20:\"#95d5fa\"\n",
    "               })"
   ]
  },
  {
   "cell_type": "markdown",
   "id": "beaf0e03-2bed-493c-9ba1-ac730502168d",
   "metadata": {},
   "source": [
    "# Definition of functions"
   ]
  },
  {
   "cell_type": "code",
   "execution_count": null,
   "id": "eb726629",
   "metadata": {},
   "outputs": [],
   "source": [
    "def potential(r, attraction=1, repulsion=1, beta=2):\n",
    "    return repulsion*np.exp(-r) - attraction*np.exp(-r/beta)\n",
    "\n",
    "def dual(x):\n",
    "    return x[np.newaxis].T\n",
    "\n",
    "def unit(x, y, z):\n",
    "    l = np.sqrt(x**2 + y**2 + z**2)\n",
    "    x /= l\n",
    "    y /= l\n",
    "    z /= l\n",
    "    return np.array([x, y, z]).T, l"
   ]
  },
  {
   "cell_type": "markdown",
   "id": "338880f3",
   "metadata": {},
   "source": [
    "# Generate randomly distributed cells"
   ]
  },
  {
   "cell_type": "code",
   "execution_count": null,
   "id": "82a21505",
   "metadata": {},
   "outputs": [],
   "source": [
    "# Number of cells\n",
    "N = 80\n",
    "# Maximum distance between cells\n",
    "l = 1\n",
    "# Create a population of cells randomly distributed\n",
    "cells = l*randn(N, 3)\n",
    "# Compute KD-Neighbours\n",
    "j = 3 # Target cell\n",
    "neighbours = NearestNeighbors(algorithm='kd_tree').fit(cells)\n",
    "_, indices = neighbours.kneighbors([cells[j]])\n",
    "indices = indices[indices!=j]\n",
    "# VISPY Plots ------------------------------------------------\n",
    "ball = 200\n",
    "# Define canvas and enable interactive PoV\n",
    "canvas = scene.SceneCanvas(keys='interactive', show=True, bgcolor='white')\n",
    "poview = canvas.central_widget.add_view()\n",
    "# Call scatter plot\n",
    "scatter = visuals.Markers(pos=cells, edge_width=0, face_color=palette[7], size=ball,\n",
    "                          edge_color='white', scaling=True, spherical=True)\n",
    "# Pull scatter plot\n",
    "poview.add(scatter)\n",
    "# Type of interactive PoV\n",
    "poview.camera = 'turntable'\n",
    "# Axes of reference - optional\n",
    "#axis = visuals.XYZAxis(parent=poview.scene)\n",
    "# ------------------------------------------------\n",
    "# Call to main for running vispy app\n",
    "#if __name__ == '__main__':\n",
    "app.run()\n",
    "\n",
    "# Matplotlib -------------------------------------\n",
    "plt.close()\n",
    "fig = plt.figure(figsize=(7,7))\n",
    "ax = fig.add_subplot(projection=\"3d\")\n",
    "# Plot population of cells\n",
    "ax.scatter(cells[:,0], cells[:,1], cells[:,2], \n",
    "           marker=\"o\", \n",
    "           s=ball, \n",
    "           color=palette[7], \n",
    "           alpha=0.1,\n",
    "           label=\"Population\")\n",
    "# Plot neares neighbours of target cell\n",
    "ax.scatter(cells[indices.flatten()][:,0], \n",
    "           cells[indices.flatten()][:,1], \n",
    "           cells[indices.flatten()][:,2], \n",
    "           marker=\"o\", \n",
    "           s=ball, \n",
    "           color=palette[8],\n",
    "           label=\"Neighbours\")\n",
    "# Plot target cell\n",
    "ax.scatter(cells[j,0], cells[j,1], cells[j,2], \n",
    "           marker=\"o\", \n",
    "           s=ball, \n",
    "           color=palette[12],\n",
    "           label=\"Cell\")\n",
    "ax.set_xlabel(\"X\", weight=\"bold\")\n",
    "ax.set_ylabel(\"Y\", weight=\"bold\")\n",
    "ax.set_zlabel(\"Z\", weight=\"bold\")\n",
    "ax.legend()"
   ]
  },
  {
   "cell_type": "markdown",
   "id": "1e614f06",
   "metadata": {},
   "source": [
    "# Compute cell-cell interactions (potential energy)"
   ]
  },
  {
   "cell_type": "markdown",
   "id": "866ff2fb-1009-4f80-8128-c298a3b0e0e6",
   "metadata": {},
   "source": [
    "## Generate (random) polarisation vectors"
   ]
  },
  {
   "cell_type": "code",
   "execution_count": null,
   "id": "93ec540f-cf2a-41e6-81bb-e4cd60bc66f0",
   "metadata": {},
   "outputs": [],
   "source": [
    "# Apicobasal polarities\n",
    "P = l*randn(N, 3)\n",
    "P, _ = unit(P[:,0], P[:,1], P[:,2])\n",
    "\n",
    "# Planar cell polarities\n",
    "Q = l*randn(N, 3)\n",
    "Q, _ = unit(Q[:,0], Q[:,1], Q[:,2])"
   ]
  },
  {
   "cell_type": "markdown",
   "id": "6c3babf8-b331-406c-8402-cb3f3982df59",
   "metadata": {},
   "source": [
    "## Compute potential"
   ]
  },
  {
   "cell_type": "markdown",
   "id": "b2ea1fca-ab3f-4487-b3b3-9c837dd1a076",
   "metadata": {},
   "source": [
    "Calculate the weights of the attraction coefficients according to the formulae:\n",
    "\n",
    "\\begin{equation}\n",
    "\\begin{split}\n",
    "S_1 &= (p^i \\wedge r^{ij}) \\cdot (p^j \\wedge r^{ij}) = p^{i}_{\\mu} p^{j}_{\\mu} r^{ij}_{\\mu}r^{ij}_{\\mu} - p^{i}_{\\mu}r^{ij}_{\\mu} p^{j}_{\\nu}r^{ij}_{\\nu} \\\\\n",
    "S_2 &= (p^i \\wedge q^{i}) \\cdot (p^j \\wedge q^{j}) = p^{i}_{\\mu} p^{j}_{\\mu} q^{i}_{\\nu}q^{j}_{\\nu} - p^{i}_{\\mu}q^{j}_{\\mu} p^{j}_{\\nu}q^{i}_{\\nu} \\\\\n",
    "S_3 &= (q^i \\wedge r^{ij}) \\cdot (q^j \\wedge r^{ij}) = q^{i}_{\\mu} q^{j}_{\\mu} r^{ij}_{\\mu}r^{ij}_{\\mu} - q^{i}_{\\mu}r^{ij}_{\\mu} q^{j}_{\\nu}r^{ij}_{\\nu} \\\\\n",
    "\\end{split}\n",
    "\\end{equation}\n",
    "\n",
    "The strength of attraction is $S$, where\n",
    "\\begin{equation}\n",
    "S = \\sigma_1 S_1 + \\sigma_2 S_2 + \\sigma_3 S_3, \\qquad \\sigma_1 + \\sigma_2 + \\sigma_3 = 1.\n",
    "\\end{equation}"
   ]
  },
  {
   "cell_type": "code",
   "execution_count": null,
   "id": "c31ea318-03cf-4daa-9da9-1a6faa7c2a8b",
   "metadata": {},
   "outputs": [],
   "source": [
    "def evolution(cells, P, Q, beta=5/2, sigma=[1/2, 1/4, 1/4]):\n",
    "    U = np.zeros((N, N))\n",
    "    dr = dp = dq = np.zeros((N, 3))\n",
    "    for i in range(N):\n",
    "        # Obtain k-nns for the ith cell\n",
    "        _, k = neighbours.kneighbors([cells[i]])\n",
    "        k = k[k!=i]\n",
    "        dr_ij = dp_ij = dq_ij = 0\n",
    "        for j in k:\n",
    "            # Components of the radiovectors from the ith cell to its neighbours\n",
    "            x = cells[i,0] - cells[j,0]\n",
    "            y = cells[i,1] - cells[j,1]\n",
    "            z = cells[i,2] - cells[j,2]\n",
    "            # Compute the unitaries (d=|r_ij|)\n",
    "            r, d = unit(x, y, z)\n",
    "            # Apicobasal and planar-cell polarity vectors (ith cell and its neighbours)\n",
    "            Pi, Pj = P[i], P[j]\n",
    "            Qi, Qj = Q[i], Q[j]\n",
    "            # Inner product between Pi and Pj\n",
    "            PiPj = (Pi*Pj).sum(axis=0)\n",
    "            # Inner product between Qi and Qj\n",
    "            QiQj = (Pi*Pj).sum(axis=0)\n",
    "            # Inner product between Pi and Qj\n",
    "            PiQj = (Pi*Qj).sum(axis=0)\n",
    "            # Inner product between Qi and Pj\n",
    "            QiPj = (Qi*Pj).sum(axis=0)\n",
    "            # Component S1\n",
    "            S1 = PiPj * (r**2).sum(axis=0) - (Pi*r).sum(axis=0) * (Pj*r).sum(axis=0)\n",
    "            # Component S2\n",
    "            S2 = PiPj * QiQj - PiQj * QiPj\n",
    "            # Component S3\n",
    "            S3 = QiQj * (r**2).sum(axis=0) - (Qi*r).sum(axis=0) * (Qj*r).sum(axis=0)\n",
    "            # Constitutive relation\n",
    "            S = sigma[0]*S1 + sigma[1]*S2 + sigma[2]*S3\n",
    "            # Potential U\n",
    "            U[i,j] = np.exp(-d) - S*np.exp(-d/beta)\n",
    "            # ----------------------------------------------\n",
    "            # Differentials - cell positions: dV/dr\n",
    "            # ----------------------------------------------\n",
    "            # Factor term (r, Pi) Pj\n",
    "            rPi_Pj = (r*Pi).sum(axis=0) * Pj\n",
    "            # Factor term (r, Pj) Pi\n",
    "            rPj_Pi = (r*Pj).sum(axis=0) * Pi\n",
    "            # Factor term (r, Qi) Qj\n",
    "            rQi_Qj = (r*Qi).sum(axis=0) * Qj\n",
    "            # Factor term (r, Qj) Qi\n",
    "            rQj_Qi = (r*Qj).sum(axis=0) * Qi\n",
    "            # Gamma (residual)\n",
    "            A = (sigma[0]*(r*Pi).sum(axis=0) * (r*Pj).sum(axis=0) + \n",
    "                 sigma[2]*(r*Qi).sum(axis=0) * (r*Qj).sum(axis=0))\n",
    "            gamma = np.exp(-d*(beta-1)/beta) - S/beta + 2/r*A\n",
    "            # Differential of position vector\n",
    "            dr_ij += np.exp(-d/beta)*(gamma*r -\n",
    "                                      sigma[0]/d*(rPi_Pj + rPj_Pi) - \n",
    "                                      sigma[2]/d*(rQi_Qj + rQj_Qi))\n",
    "            # ----------------------------------------------\n",
    "            # Differentials - ABP vectors: dV/dp\n",
    "            # ----------------------------------------------\n",
    "            dp_ij += np.exp(-d/beta)*(sigma[0]*(S1*Pi - Pj + (r*Pj).sum(axis=0)*r) +\n",
    "                                      sigma[1]*(S2*Pi - QiQj*Pj + QiPj*r))\n",
    "            # ----------------------------------------------\n",
    "            # Differentials - PCP vectors: dV/dq\n",
    "            # ----------------------------------------------\n",
    "            dq_ij += np.exp(-d/beta)*(sigma[1]*(S2*Qi - PiPj*Qj + PiQj*Pj) +\n",
    "                                      sigma[2]*(S3*Qi - Qj + (r*Qj).sum(axis=0)*r))\n",
    "        # ----------------------------------------------\n",
    "        dr[i,:] = dr_ij\n",
    "        dp[i,:] = dp_ij\n",
    "        dq[i,:] = dq_ij\n",
    "    #U = (U.transpose() + U)/2.\n",
    "    return dr, dp, dq"
   ]
  },
  {
   "cell_type": "code",
   "execution_count": null,
   "id": "c858c886-f7c3-4432-9370-cec99a54f1ec",
   "metadata": {},
   "outputs": [],
   "source": [
    "def animation(r, p, q, t, w=1e-3):\n",
    "    ball = 200\n",
    "    # Define canvas and enable interactive PoV\n",
    "    canvas = scene.SceneCanvas(keys='interactive', show=True, bgcolor='white')\n",
    "    poview = canvas.central_widget.add_view()\n",
    "    # dt - infinitesimal step\n",
    "    dt = t[1] - t[0]\n",
    "    for i in t:\n",
    "        # Evolve states\n",
    "        r, p, q = evolution(r, p, q)\n",
    "        r += dt*r + np.random.normal(0, w, size=3)\n",
    "        p += dt*p + np.random.normal(0, w, size=3) \n",
    "        q += dt*q + np.random.normal(0, w, size=3)\n",
    "        p, _ = unit(p[:,0], p[:,1], p[:,2])\n",
    "        q, _ = unit(q[:,0], p[:,1], p[:,2])\n",
    "        \n",
    "        scatter = visuals.Markers(pos=r, face_color=\"#D89C5B\", size=ball,\n",
    "                                  edge_color='white', edge_width=0,\n",
    "                                  scaling=True, spherical=True)\n",
    "        # Pull scatter plot\n",
    "        poview.add(scatter)\n",
    "        \n",
    "        # Type of interactive PoV\n",
    "        poview.camera = 'turntable'\n",
    "        canvas.update()"
   ]
  },
  {
   "cell_type": "code",
   "execution_count": null,
   "id": "ce949d3a-5336-46a1-9a8d-c137b408644d",
   "metadata": {},
   "outputs": [],
   "source": [
    "t = np.linspace(0, 1, 10)\n",
    "\n",
    "animation(cells, P, Q, t)"
   ]
  },
  {
   "cell_type": "markdown",
   "id": "d60c65e6-c368-488e-88d3-cbc598a5d4ea",
   "metadata": {},
   "source": [
    "## Simulation (almost realtime)"
   ]
  },
  {
   "cell_type": "code",
   "execution_count": null,
   "id": "c3faae18-43fa-407c-9932-7592aee206bb",
   "metadata": {},
   "outputs": [],
   "source": [
    "ball = 200\n",
    "# Define canvas and enable interactive PoV\n",
    "canvas = scene.SceneCanvas(keys='interactive', show=True, bgcolor='black')\n",
    "poview = canvas.central_widget.add_view()\n",
    "\n",
    "r, p, q = cells, P, Q\n",
    "def update(event):\n",
    "    \n",
    "    global r, p, q\n",
    "    \n",
    "    w = 1e-2\n",
    "    dt = 0.01\n",
    "    \n",
    "    r, p, q = evolution(r, p, q)\n",
    "    r += dt*r + np.random.normal(0, w, size=3)\n",
    "    p += dt*p + np.random.normal(0, w, size=3) \n",
    "    q += dt*q + np.random.normal(0, w, size=3)\n",
    "    p, _ = unit(p[:,0], p[:,1], p[:,2])\n",
    "    q, _ = unit(q[:,0], p[:,1], p[:,2])  \n",
    "    \n",
    "    scatter = visuals.Markers(pos=r, face_color=\"#B34E66\", size=ball,\n",
    "                              edge_color='white', edge_width=0,\n",
    "                              scaling=True, spherical=True)\n",
    "    # Pull scatter plot\n",
    "    poview.add(scatter)\n",
    "    poview.camera = 'turntable'\n",
    "    canvas.update()\n",
    "    \n",
    "timer = app.Timer()\n",
    "timer.connect(update)\n",
    "timer.start(0.5)"
   ]
  },
  {
   "cell_type": "markdown",
   "id": "c4f58fb2-1af0-4158-ae7c-d511357e820d",
   "metadata": {},
   "source": [
    "## Compute Potential Energy (optional)"
   ]
  },
  {
   "cell_type": "code",
   "execution_count": null,
   "id": "986a0efe-3ff2-4450-9c36-8e771cd0339f",
   "metadata": {},
   "outputs": [],
   "source": [
    "\"\"\"\n",
    "from mpl_toolkits.axes_grid1.axes_divider import make_axes_locatable\n",
    "\n",
    "# Plots\n",
    "plt.close()\n",
    "plt.figure(1, figsize=(8,8), constrained_layout=False)\n",
    "ax = plt.gca()\n",
    "im = ax.matshow(U, cmap=plt.get_cmap(\"terrain\"))\n",
    "ax.set_xlabel(\"Cell\", size=14, weight=\"bold\")\n",
    "ax.set_ylabel(\"Cell\", size=14, weight=\"bold\")\n",
    "ax.set_xticks(np.arange(N), labels=np.arange(1,N+1))\n",
    "ax.set_yticks(np.arange(N), labels=np.arange(1,N+1))\n",
    "divider = make_axes_locatable(ax)\n",
    "plt.colorbar(im, cax=divider.append_axes(\"right\", size=\"5%\", pad=0.1), label=\"Energy\")\n",
    "\"\"\""
   ]
  },
  {
   "cell_type": "code",
   "execution_count": null,
   "id": "bf0eeff3-028b-4dbd-b98c-8b9330720211",
   "metadata": {},
   "outputs": [],
   "source": []
  },
  {
   "cell_type": "code",
   "execution_count": null,
   "id": "b1764496-448a-48f5-bbcb-5ccfa40a5ecc",
   "metadata": {},
   "outputs": [],
   "source": []
  },
  {
   "cell_type": "code",
   "execution_count": null,
   "id": "696a5ce9-fb8f-4e59-acdd-49a10cca6048",
   "metadata": {},
   "outputs": [],
   "source": []
  }
 ],
 "metadata": {
  "@webio": {
   "lastCommId": null,
   "lastKernelId": null
  },
  "kernelspec": {
   "display_name": "Python 3",
   "language": "python",
   "name": "python3"
  },
  "language_info": {
   "codemirror_mode": {
    "name": "ipython",
    "version": 3
   },
   "file_extension": ".py",
   "mimetype": "text/x-python",
   "name": "python",
   "nbconvert_exporter": "python",
   "pygments_lexer": "ipython3",
   "version": "3.8.13"
  },
  "widgets": {
   "application/vnd.jupyter.widget-state+json": {
    "state": {},
    "version_major": 2,
    "version_minor": 0
   }
  }
 },
 "nbformat": 4,
 "nbformat_minor": 5
}
